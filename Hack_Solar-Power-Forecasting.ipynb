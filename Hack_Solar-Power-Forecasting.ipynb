{
 "cells": [
  {
   "cell_type": "code",
   "execution_count": null,
   "metadata": {},
   "outputs": [],
   "source": [
    "import os\n",
    "import numpy as np\n",
    "import pandas as pd\n",
    "import matplotlib.pyplot as plt\n",
    "from statsmodels.tsa.arima.model import ARIMA\n",
    "from sklearn.preprocessing import MinMaxScaler\n",
    "from sklearn.metrics import root_mean_squared_error\n",
    "\n",
    "import torch\n",
    "import torch.nn as nn\n",
    "import torch.optim as optim\n",
    "from torch.utils.data import TensorDataset, DataLoader\n",
    "from tqdm.auto import tqdm"
   ]
  },
  {
   "cell_type": "code",
   "execution_count": null,
   "metadata": {},
   "outputs": [],
   "source": [
    "# Load the data\n",
    "train_folder = 'Train/Train'\n",
    "\n",
    "# List to store individual DataFrames\n",
    "dfs = []\n",
    "\n",
    "# Iterate through all files in the train folder\n",
    "for filename in os.listdir(train_folder):\n",
    "    if filename.endswith('.csv'):\n",
    "        file_path = os.path.join(train_folder, filename)\n",
    "        # Read CSV file and append to the list\n",
    "        df = pd.read_csv(file_path, index_col='Time', parse_dates=True)\n",
    "        dfs.append(df)\n",
    "\n",
    "# Concatenate all DataFrames\n",
    "data = pd.concat(dfs, axis=0)\n",
    "\n",
    "# Sort the index to ensure chronological order\n",
    "data.sort_index(inplace=True)\n",
    "\n",
    "data = data.reset_index()\n",
    "print(len(data))"
   ]
  },
  {
   "cell_type": "code",
   "execution_count": null,
   "metadata": {},
   "outputs": [],
   "source": [
    "def extract_features(df):\n",
    "    df['Year'] = df['Time'].dt.year\n",
    "    df['Month'] = df['Time'].dt.month\n",
    "    df['Day'] = df['Time'].dt.day\n",
    "    df['Hour'] = df['Time'].dt.hour\n",
    "    df['Minute'] = df['Time'].dt.minute\n",
    "    df.drop(columns=['Time'], inplace=True)\n",
    "    return df"
   ]
  },
  {
   "cell_type": "code",
   "execution_count": null,
   "metadata": {},
   "outputs": [],
   "source": [
    "processed_data = extract_features(data)"
   ]
  },
  {
   "cell_type": "code",
   "execution_count": null,
   "metadata": {},
   "outputs": [],
   "source": [
    "train_size = int(len(data) * 1)\n",
    "target_column = 'System Production (W)'"
   ]
  },
  {
   "cell_type": "code",
   "execution_count": null,
   "metadata": {},
   "outputs": [],
   "source": [
    "#Convert the dataframe to a numpy array\n",
    "dataset = processed_data.filter([target_column]).values\n",
    "# Scale the data\n",
    "scaler = MinMaxScaler(feature_range=(0, 1))\n",
    "scaled_data = scaler.fit_transform(dataset)"
   ]
  },
  {
   "cell_type": "code",
   "execution_count": null,
   "metadata": {},
   "outputs": [],
   "source": [
    "look_back = 24 \n",
    "train, test = scaled_data[:train_size,:], scaled_data[train_size:,:]\n",
    "print(len(train))\n",
    "print(len(test))"
   ]
  },
  {
   "cell_type": "code",
   "execution_count": null,
   "metadata": {},
   "outputs": [],
   "source": [
    "def create_sequences(dataset, look_back=1):\n",
    "    X, Y = [], []\n",
    "    for i in range(look_back, len(dataset)):\n",
    "        a = dataset[i-look_back:i, 0]\n",
    "        X.append(a)\n",
    "        Y.append(dataset[i, 0])\n",
    "    return np.array(X), np.array(Y)"
   ]
  },
  {
   "cell_type": "code",
   "execution_count": null,
   "metadata": {},
   "outputs": [],
   "source": [
    "x_train, y_train = create_sequences(train, look_back)\n",
    "\n",
    "# reshape input to be [samples, time steps, features]\n",
    "x_train = np.reshape(x_train, (x_train.shape[0], 1, x_train.shape[1]))\n",
    "\n",
    "print(len(x_train))\n",
    "print(x_train.shape)\n",
    "\n",
    "train_dataset = TensorDataset(torch.FloatTensor(x_train), torch.FloatTensor(y_train))\n",
    "train_loader = DataLoader(train_dataset, batch_size=4, shuffle=True)"
   ]
  },
  {
   "cell_type": "code",
   "execution_count": null,
   "metadata": {},
   "outputs": [],
   "source": [
    "x_test, y_test = create_sequences(test, look_back)\n",
    "\n",
    "# reshape input to be [samples, time steps, features]\n",
    "x_test = np.reshape(x_test, (x_test.shape[0], 1, x_test.shape[1]))\n",
    "\n",
    "print(len(x_test))\n",
    "print(x_test.shape)\n",
    "\n",
    "test_dataset = TensorDataset(torch.FloatTensor(x_test), torch.FloatTensor(y_test))\n",
    "test_loader = DataLoader(test_dataset, batch_size=4, shuffle=False)"
   ]
  },
  {
   "cell_type": "code",
   "execution_count": null,
   "metadata": {},
   "outputs": [],
   "source": [
    "# Define the LSTM model\n",
    "class LSTMModel(nn.Module):\n",
    "    def __init__(self, input_size, hidden_size1, hidden_size2, output_size):\n",
    "        super(LSTMModel, self).__init__()\n",
    "        self.lstm1 = nn.LSTM(input_size, hidden_size1, batch_first=True)\n",
    "        self.lstm2 = nn.LSTM(hidden_size1, hidden_size2, batch_first=True)\n",
    "        self.fc1 = nn.Linear(hidden_size2, 25)\n",
    "        self.fc2 = nn.Linear(25, output_size)\n",
    "\n",
    "    def forward(self, x):\n",
    "        x, _ = self.lstm1(x)\n",
    "        x, _ = self.lstm2(x)\n",
    "        x = self.fc1(x[:, -1, :])\n",
    "        x = self.fc2(x)\n",
    "        return x\n",
    "\n",
    "# Instantiate the model\n",
    "model = LSTMModel(input_size=x_train.shape[2], hidden_size1=128, hidden_size2=64, output_size=1).to(\"cuda\")"
   ]
  },
  {
   "cell_type": "code",
   "execution_count": null,
   "metadata": {},
   "outputs": [],
   "source": [
    "# Define loss function and optimizer\n",
    "criterion = nn.MSELoss()\n",
    "optimizer = optim.Adam(model.parameters(), lr=0.001)\n",
    "\n",
    "# Training loop\n",
    "num_epochs = 10\n",
    "for epoch in range(num_epochs):\n",
    "    model.train()\n",
    "    for batch_x, batch_y in tqdm(train_loader):\n",
    "        batch_x, batch_y = batch_x.to(\"cuda\"), batch_y.to(\"cuda\")\n",
    "        optimizer.zero_grad()\n",
    "        outputs = model(batch_x)\n",
    "        loss = criterion(outputs, batch_y.unsqueeze(1))\n",
    "        loss.backward()\n",
    "        optimizer.step()\n",
    "    \n",
    "    # testidation\n",
    "    # model.eval()\n",
    "    # with torch.no_grad():\n",
    "    #     test_loss = sum(criterion(model(batch_x.to(\"cuda\")), batch_y.to(\"cuda\").unsqueeze(1)) for batch_x, batch_y in test_loader)\n",
    "    #     test_loss /= len(test_loader)\n",
    "    # print(f'Epoch [{epoch+1}/{num_epochs}], Train Loss: {loss.item():.4f}, Test Loss: {test_loss.item():.4f}')\n",
    "    \n",
    "    print(f'Epoch [{epoch+1}/{num_epochs}], Train Loss: {loss.item():.4f}')"
   ]
  },
  {
   "cell_type": "code",
   "execution_count": null,
   "metadata": {},
   "outputs": [],
   "source": [
    "model.eval()\n",
    "\n",
    "predict = []\n",
    "\n",
    "with torch.no_grad():\n",
    "    for batch_x, batch_y in test_loader:\n",
    "        predict.extend(model(batch_x.to(\"cuda\")).cpu().numpy())\n",
    "\n",
    "test_predict = scaler.inverse_transform(predict)\n",
    "y_test = scaler.inverse_transform([y_test])\n",
    "\n",
    "# Calculate RMSE\n",
    "test_score = root_mean_squared_error(y_test[0], test_predict[:,0])\n",
    "print(f'Test Score: {test_score:.2f} RMSE')"
   ]
  },
  {
   "cell_type": "code",
   "execution_count": null,
   "metadata": {},
   "outputs": [],
   "source": [
    "test = pd.read_csv('Test.csv')\n",
    "test.sort_values(by='Time', inplace=True)\n",
    "test['Time'] = pd.to_datetime(test['Time'], format='%d/%m/%Y %H:%M')\n",
    "test.drop(columns=['id'], inplace=True)\n",
    "\n",
    "print(len(test))"
   ]
  },
  {
   "cell_type": "code",
   "execution_count": null,
   "metadata": {},
   "outputs": [],
   "source": [
    "processed_test = extract_features(test)\n",
    "concat_data = pd.concat([processed_data[-24:], processed_test])\n",
    "concat_data.drop(columns=[target_column], inplace=True)"
   ]
  },
  {
   "cell_type": "code",
   "execution_count": null,
   "metadata": {},
   "outputs": [],
   "source": [
    "concat_data"
   ]
  },
  {
   "cell_type": "code",
   "execution_count": null,
   "metadata": {},
   "outputs": [],
   "source": [
    "def create_test_sequences(data, look_back):\n",
    "    x = []\n",
    "    for i in range(look_back, len(data)):\n",
    "        x.append(data[i-look_back:i, 0])\n",
    "    return np.array(x)"
   ]
  },
  {
   "cell_type": "code",
   "execution_count": null,
   "metadata": {},
   "outputs": [],
   "source": [
    "test_numpy = concat_data.values\n",
    "\n",
    "x_test = create_test_sequences(test_numpy, look_back)\n",
    "\n",
    "# reshape input to be [samples, time steps, features]\n",
    "x_test = np.reshape(x_test, (x_test.shape[0], 1, x_test.shape[1]))\n",
    "\n",
    "print(len(x_test))\n",
    "print(x_test.shape)\n",
    "\n",
    "test_dataset = TensorDataset(torch.FloatTensor(x_test))\n",
    "test_loader = DataLoader(test_dataset, shuffle=False)"
   ]
  },
  {
   "cell_type": "code",
   "execution_count": null,
   "metadata": {},
   "outputs": [],
   "source": [
    "model.eval()\n",
    "\n",
    "predict = []\n",
    "\n",
    "with torch.no_grad():\n",
    "    for batch_x in test_loader:\n",
    "        predict.extend(model(batch_x[0].to(\"cuda\")).cpu().numpy())\n",
    "\n",
    "test_predict = scaler.inverse_transform(predict)"
   ]
  },
  {
   "cell_type": "code",
   "execution_count": null,
   "metadata": {},
   "outputs": [],
   "source": [
    "len(test_predict)"
   ]
  },
  {
   "cell_type": "code",
   "execution_count": null,
   "metadata": {},
   "outputs": [],
   "source": [
    "submission = pd.read_csv('Sample-submission.csv')\n",
    "submission['System Production (W)'] = test_predict\n",
    "submission.to_csv('submission.csv', index=False)"
   ]
  },
  {
   "cell_type": "code",
   "execution_count": null,
   "metadata": {},
   "outputs": [],
   "source": [
    "!kaggle competitions submit -c hackathon-online-solar-power-forecasting -f submission.csv -m \"LSTM\""
   ]
  }
 ],
 "metadata": {
  "kernelspec": {
   "display_name": "ai",
   "language": "python",
   "name": "python3"
  },
  "language_info": {
   "codemirror_mode": {
    "name": "ipython",
    "version": 3
   },
   "file_extension": ".py",
   "mimetype": "text/x-python",
   "name": "python",
   "nbconvert_exporter": "python",
   "pygments_lexer": "ipython3",
   "version": "3.10.14"
  }
 },
 "nbformat": 4,
 "nbformat_minor": 2
}
